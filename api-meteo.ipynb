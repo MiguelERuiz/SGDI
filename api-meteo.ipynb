{
 "cells": [
  {
   "cell_type": "code",
   "execution_count": null,
   "source": [
    "import json # para convertir string a JSON\n",
    "import requests # para descargar ficheros\n",
    "import pprint # para mostrar JSON en \"bonito\"\n",
    "import Constants\n",
    "\n",
    "api_key = Constants.API_KEY_SERVICE\n",
    "# datos metereológicos, recibe la url para el servicio concreto y la clave de api\n",
    "def datos_meteo(url,api_key):\n",
    "    querystring = {\"api_key\":api_key}\n",
    "    response = requests.get( url,  params=querystring)\n",
    "    #print(response.headers)\n",
    "    respuesta = json.loads(response.text)\n",
    "    print(\"Paso 1\")\n",
    "    print(respuesta)\n",
    "\n",
    "    if respuesta[\"estado\"]==200: # éxito\n",
    "        print(\"Paso 2\")\n",
    "        pet_datos = requests.get(respuesta['datos'])\n",
    "        #print(\"respuesta a la peticion de datos\",pet_datos,pet_datos.text)\n",
    "        valores_datos = json.loads(pet_datos.text)\n",
    "        print(\"Datos: \")\n",
    "        pprint.pprint(valores_datos)\n",
    "        pet_metadatos = requests.get(respuesta['metadatos'])\n",
    "        valores_metadatos = dict(json.loads(pet_metadatos.text))\n",
    "        print(\"=\"*50)\n",
    "        print(\"Metadatos: \")\n",
    "        pprint.pprint(valores_metadatos)\n",
    "    else:\n",
    "        valores_datos = None\n",
    "        valores_metadatos = None\n",
    "    return valores_datos,valores_metadatos\n",
    "\n",
    "url = \"https://opendata.aemet.es/opendata/api/valores/climatologicos/inventarioestaciones/todasestaciones/\"\n",
    "datos_es,metadatos_es = datos_meteo(url,api_key )"
   ],
   "outputs": [],
   "metadata": {}
  }
 ],
 "metadata": {
  "orig_nbformat": 4,
  "language_info": {
   "name": "python",
   "version": "3.8.10",
   "mimetype": "text/x-python",
   "codemirror_mode": {
    "name": "ipython",
    "version": 3
   },
   "pygments_lexer": "ipython3",
   "nbconvert_exporter": "python",
   "file_extension": ".py"
  },
  "kernelspec": {
   "name": "python3",
   "display_name": "Python 3.8.10 64-bit"
  },
  "interpreter": {
   "hash": "31f2aee4e71d21fbe5cf8b01ff0e069b9275f58929596ceb00d14d90e3e16cd6"
  }
 },
 "nbformat": 4,
 "nbformat_minor": 2
}