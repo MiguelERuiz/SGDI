{
 "cells": [
  {
   "cell_type": "markdown",
   "metadata": {},
   "source": [
    "Nombre 1:"
   ]
  },
  {
   "cell_type": "markdown",
   "metadata": {},
   "source": [
    "Nombre 2:"
   ]
  },
  {
   "cell_type": "markdown",
   "metadata": {},
   "source": [
    "# Sistemas de Gestión de Datos y de la Información \n",
    "\n",
    "## Práctica 1\n",
    "\n",
    "- Se valorará la claridad del código y evitar redundancias o código poco eficiente\n",
    "- Además de las funciones que se piden se pueden añadir otras auxiliares"
   ]
  },
  {
   "cell_type": "markdown",
   "metadata": {},
   "source": [
    "**Ejercicio 1** [5 puntos]\n",
    "\n",
    "a) [1] Escribir una función `cargadatos` que cargue en un dataframe de pandas  el contenido de un fichero csv dado con una codificación dada.\n",
    "\n",
    "- *Nombre*: `cargadatos`\n",
    "- *Parámetros de entrada*: \n",
    "\n",
    "    - `fichero`: path al fichero csv (puede ser un path local o una url)\n",
    "    -  `codificacion`: codificación de caracteres del fichero, por ejemplo 'utf-8'. Ver [aquí](https://docs.python.org/3/library/codecs.html#standard-encodings) la lista de posible codificaciones\n",
    "    \n",
    "- *Devuelve*: el dataframe con los datos \n",
    "\n",
    "En el ejemplo se carga un dataframe con datos de usuarios de Twitter incluyendo sus coordenadas"
   ]
  },
  {
   "cell_type": "code",
   "execution_count": null,
   "metadata": {},
   "outputs": [],
   "source": [
    "import pandas as pd\n",
    "\n",
    "\n",
    "# solucion\n",
    "def cargadatos(fichero,codificacion):\n",
    "    \n",
    "\n",
    "# no borrar esto para ver el resultado\n",
    "fichero =  \"https://raw.githubusercontent.com/RafaelCaballero/tdm/master/datos/user_coords.csv\"\n",
    "codificacion = \"utf-8\"\n",
    "df = cargadatos(fichero, codificacion)\n",
    "df"
   ]
  },
  {
   "cell_type": "markdown",
   "metadata": {},
   "source": [
    "b)[1] EScribir una función `iniciapagina` que arranque chromedriver y cargue una página dada. El parámetro `chromedriver` indica el path al fichero `chromedriver.exe`\n",
    "\n",
    "- *Nombre*: `iniciapagina`\n",
    "- *Parámetros de entrada*: \n",
    "    - `chromedriver`: el path al fichero chromedriver.exe\n",
    "    - `pagina`: un string con la url de la página a cargar\n",
    "    \n",
    "- *Devuelve*: el driver tras cargar la página\n",
    "\n",
    "En el ejemplo se abre una página que permite calcular la distancia geográfica entre dos puntos"
   ]
  },
  {
   "cell_type": "code",
   "execution_count": null,
   "metadata": {},
   "outputs": [],
   "source": [
    "# Ahora arrancamos una instancia de google Chrome. \n",
    "import os\n",
    "from selenium import webdriver  # si da error, desde anaconda prompt sobre python 3.x hacer pip install --user  selenium\n",
    "\n",
    "# solución\n",
    "def iniciapagina(chromedriver,pagina):    \n",
    "\n",
    "\n",
    "# para probar....\n",
    "\n",
    "# chromedriver = \"c:/hlocal/sgdi/chromedriver.exe\"\n",
    "# cambiar por la dirección en la que tengamos chromedriver.exe\n",
    "chromedriver = \"c:/hlocal/sgdi/chromedriver.exe\"    \n",
    "pagina = \"https://www.nhc.noaa.gov/gccalc.shtml\"\n",
    "driver = iniciapagina(chromedriver,pagina)"
   ]
  },
  {
   "cell_type": "markdown",
   "metadata": {},
   "source": [
    "c) [3p] Escribir una función `distancia(driver,lat1,lon1,lat2,lon2)` que dadas las coordenadas de dos puntos (lat1,long1) y (lat2,long2) nos devuelva la distancia en km que las separa, utilizando para el cálculo la página que hemos abierto y cuyo acceso está en driver.\n",
    "\n",
    "- *Nombre*: distancia(driver,lat1,long1,lat2,long2)\n",
    "- *Parámetros de entrada*: \n",
    "\n",
    "    - driver: el driver selenium que permite acceder a la página que hemos abierto\n",
    "    - lat1: la latitud del primer punto, de -90 a +90\n",
    "    - lon1: la longitud del primero punto, de -180 a +180\n",
    "    - lat2: la latitud del segundo punto, de -90 a +90\n",
    "    - lon2: la longitud del segundo punto, de -180 a +180\n",
    "    \n",
    "- *Devuelve*: la distancia en km como un entero\n",
    "\n",
    "**Nota**: Hay que tener en cuenta que la forma de indicar las coordenadas en la latitud y longitud varía, por lo que tendremos que examinar, y en su caso adaptar, los parámetros de entrada. En particular:\n",
    "\n",
    "- Aunque la latitud de entrada va de -90 a 90, en la página siempre hay que poner un valor de 0 a 90, indicando si es latitud norte (N) o sur (S) en la lista desplegable. Por ejemplo, el parámetro -45 se convertira en +45 eligiendo del desplegable S, mientras el parámetro +45 se quedará tal cual pero eligiendo de la lista N.\n",
    "\n",
    "- Análogamente, mientras que la latitud va de -180 a +180, en la página los números negativos se convertirán en positivos seleccionando W de su lista desplegable, mientras que los positivos no se modifican pero habrá que elegir E de su lista desplegable."
   ]
  },
  {
   "cell_type": "code",
   "execution_count": null,
   "metadata": {},
   "outputs": [],
   "source": [
    "from selenium.webdriver.support.ui import Select\n",
    "from selenium.webdriver.common.keys import Keys\n",
    "\n",
    "\n",
    "def  distancia(driver,lat1,lon1,lat2,lon2):\n",
    "    "
   ]
  },
  {
   "cell_type": "code",
   "execution_count": null,
   "metadata": {},
   "outputs": [],
   "source": [
    "# para probar\n",
    "print(distancia(driver,90,0,-90,0)) # 20002 aprox\n",
    "print(distancia(driver,-90,0,90,0)) # 20002 aprox\n",
    "print(distancia(driver,0,-180,0,+180)) # 0 aprox\n",
    "print(distancia(driver,0,180,0.001,0)) # 20001 aprox\n",
    "print(distancia(driver,40.4167, -3.70325 ,41.3879,2.16992)) # 505"
   ]
  },
  {
   "cell_type": "markdown",
   "metadata": {},
   "source": [
    "**Ejercicio 2** (5 puntos)"
   ]
  },
  {
   "cell_type": "markdown",
   "metadata": {},
   "source": [
    "a) [1] Escribir una función `datos_estaciones(api_key)` que nos permita obtener los datos de todas las estaciones metereológicas de la red española (se adjunta la función `datos_meteo` para que se use) y la forma de obtenerla se encuentra en el notebook api-meteo, basta con copiar la información y darle forma de función)\n",
    "\n",
    "- *Nombre*: datos_estaciones(api_key)\n",
    "- *Parámetros de entrada*: \n",
    "\n",
    "    - api_key: nuestra clave para accerder a la API metereológica, si no la tienes puedes conseguirla [aquí](https://opendata.aemet.es/centrodedescargas/altaUsuario?)\n",
    "    \n",
    "    \n",
    "- *Devuelve*: los datos de las estaciones. Ojo: solo los datos, no los metadatos"
   ]
  },
  {
   "cell_type": "code",
   "execution_count": null,
   "metadata": {},
   "outputs": [],
   "source": [
    "import json # para convertir string a JSON\n",
    "import requests # para descargar ficheros\n",
    "import pprint # para mostrar JSON en \"bonito\"\n",
    "\n",
    "\n",
    "# datos metereológicos, recibe la url para el servicio concreto y la clave de api\n",
    "def datos_meteo(url,api_key):\n",
    "    querystring = {\"api_key\":api_key}\n",
    "    response = requests.get( url,  params=querystring)\n",
    "    #print(response.headers)\n",
    "    respuesta = json.loads(response.text)\n",
    "    #print(\"Paso 1\")\n",
    "    print(\"paso 1 \",respuesta)\n",
    "\n",
    "    if respuesta[\"estado\"]==200: # éxito\n",
    "        #print(\"Paso 2\")\n",
    "        pet_datos = requests.get(respuesta['datos'])\n",
    "        #print(\"respuesta a la peticion de datos\",pet_datos,pet_datos.text)\n",
    "        valores_datos = json.loads(pet_datos.text)\n",
    "        #print(\"Datos: \")\n",
    "        #pprint.pprint(valores_datos)\n",
    "        pet_metadatos = requests.get(respuesta['metadatos'])\n",
    "        valores_metadatos = dict(json.loads(pet_metadatos.text))\n",
    "        #print(\"=\"*50)\n",
    "        #print(\"Metadatos: \")\n",
    "        #pprint.pprint(valores_metadatos)\n",
    "    else:\n",
    "        valores_datos = None\n",
    "        valores_metadatos = None\n",
    "    return valores_datos,valores_metadatos\n",
    "\n",
    "\n",
    "### Solución\n",
    "def datos_estaciones(api_key):\n",
    "    \n",
    "\n",
    "#### para probar poned vuestra clave...\n",
    "api_key = \"\"\n",
    "estaciones = datos_estaciones(api_key)\n",
    "len(estaciones),estaciones[:3]"
   ]
  },
  {
   "cell_type": "markdown",
   "metadata": {},
   "source": [
    "b) [2] La variable `estaciones` es una lista de diccionarios Python, cada uno con claves\n",
    "\n",
    "- 'altitud': altitud de la estación\n",
    "- 'indicativo': identificador único de la estación\n",
    "- 'indsinop': Indicativo sinóptico\n",
    "- 'latitud': latitud de la estación\n",
    "- 'longitud': longitud de la estación\n",
    "- 'nombre': nombre que recibe la estación\n",
    "- 'provincia': provincia en la que se encuentra\n",
    "\n",
    "Queremos escribir una función `estacion_cercana(driver,df,screen_name,estaciones)` que dado un usuario de los del dataframe df, extraiga sus coordenadas y encuentre la estación metereológica más cercana de entre las que se le pasen como parámetro.\n",
    "\n",
    "- *Nombre*: estacion_cercana(driver,df,screen_name,estaciones)\n",
    "- *Parámetros de entrada*: \n",
    "\n",
    "    - driver: acceso a la página para calcular distancias a partir de coordenadas\n",
    "    - df: dataframe de usuarios que cargamos en el ejercicio 1\n",
    "    - screen_name un valor de esta columna en df, es decir el nombre de un usuario de df en Twitter. Asumimos que existe en df.\n",
    "    - estaciones: la lista de estaciones metereológicas obtenida en el ejercicio anterior\n",
    "    \n",
    "    \n",
    "- *Devuelve*: El `indicativo` de la estación más cercana, las coordenadas de esta estación, las coordenadas del usuario y la distancia que separa al usuario de esta estación \n",
    "\n",
    "Notas: \n",
    "- Utilizar las funciones que hemos hecho hasta ahora, no repetir código\n",
    "- En las estaciones la longitud y la latitud son strings con un formato diferente al que requiere la función `distancia`. Para convertir cada valor en el formato que se requiere en esta función puedes utilizar la función `convierte`"
   ]
  },
  {
   "cell_type": "code",
   "execution_count": null,
   "metadata": {},
   "outputs": [],
   "source": [
    "def convierte(tud):\n",
    "    factor = 1 if tud[-1] in ['N', 'E'] else -1\n",
    "    return factor * sum(float(x) / 60 ** n for n, x in enumerate([tud[0:2],tud[2:4],tud[4:6]]))\n",
    "\n",
    "print(convierte('412316N'))\n",
    "print(convierte('021012E'))"
   ]
  },
  {
   "cell_type": "code",
   "execution_count": null,
   "metadata": {},
   "outputs": [],
   "source": [
    "# solución\n",
    "def estacion_cercana(driver,df,screen_name,estaciones):\n",
    "\n",
    "    \n",
    "    \n",
    "# para probar\n",
    "screen_name = 'ro2studio'\n",
    "# nos quedamos con algunas estaciones, para que tarde menos\n",
    "algunas = [b for a,b in enumerate(estaciones) if a %15==0]\n",
    "indMax,distMax,lat1,lon1 = estacion_cercana(driver,df,screen_name,algunas)   \n",
    "indMax,distMax,lat1,lon1"
   ]
  },
  {
   "cell_type": "markdown",
   "metadata": {},
   "source": [
    "c) [1] Utilizar la librería `folium` para definir una función `estaciones_y_usuario(estaciones,screen_name,lat1,lon1)` que dado un conjunto de estaciones, un nombre de usuario y las coordenadas del usuario nos devuelva un mapa donde vengan representados tanto las estaciones como el usuario. La leyenda asociado a las estaciones tiene que ser su nombre + su indicativo. En el caso del usuario, que debería aparecer con un icono diferente, sería el nombre del usuario.  \n",
    "\n",
    "- *Nombre*: `estaciones_y_usuario(estaciones,screen_name,lat1,lon1)` \n",
    "- *Parámetros de entrada*: \n",
    "\n",
    "    - estaciones: conjunto de estaciones metereológicas\n",
    "    - screen_name: el nombre de un usuario\n",
    "    - lat1, lon1: las coordenadas de este usuario\n",
    "    \n",
    "- *Devuelve*: Un map de folium con la representación de las estaciones y del usuario como se indica más arrib. Para crear el mapa partir de la `location` [36,-6] con un `zoom_start` de 5.\n",
    "\n",
    "Notas: es fácil encontrar información de folium en la web. Por ejemplo se puede utilizar:\n",
    "\n",
    "https://python-visualization.github.io/folium/quickstart.html"
   ]
  },
  {
   "cell_type": "code",
   "execution_count": null,
   "metadata": {},
   "outputs": [],
   "source": [
    "import folium\n",
    "\n",
    "# solución\n",
    "def estaciones_y_usuario(estaciones,screen_name,lat1,lon1):\n",
    "    "
   ]
  },
  {
   "cell_type": "code",
   "execution_count": null,
   "metadata": {
    "scrolled": true
   },
   "outputs": [],
   "source": [
    "# para probar\n",
    "estaciones_y_usuario(algunas,screen_name,lat1,lon1)"
   ]
  },
  {
   "cell_type": "markdown",
   "metadata": {},
   "source": [
    "d) [1] Queremos hacer un gráfico sencillo que incluya las temperaturas diarias máxima y mínima para la estación 2117D', desde el 01 de enero 2019 hasta el 31 de diciembre del mismo año.\n",
    "\n",
    "- *Nombre*: `gráfico_de_temperaturas(clave_api,estacion,fecha_ini,fecha_fin)` \n",
    "- *Parámetros de entrada*: \n",
    "\n",
    "    - clave_api: clave secreta para acceder a los datos metereológicos\n",
    "    - estacion: el indicativo de la estación\n",
    "    - fecha_ini,fecha_fin: dos strings que indican la fecha inicial y la fecha final, Ambas con el formato 'yyyy-mm-dd'\n",
    "    \n",
    "- *Devuelve*: Nada, simplemente muestra las gráficas"
   ]
  },
  {
   "cell_type": "code",
   "execution_count": null,
   "metadata": {},
   "outputs": [],
   "source": [
    "%matplotlib inline\n",
    "\n",
    "import matplotlib\n",
    "import matplotlib.pyplot as plt\n",
    "import numpy as np\n",
    "from datetime import datetime\n",
    "\n",
    "# solución\n",
    "def gráfico_de_temperaturas(clave_api,estacion,fecha_ini,fecha_fin):\n"
   ]
  },
  {
   "cell_type": "code",
   "execution_count": null,
   "metadata": {},
   "outputs": [],
   "source": [
    "# para probar\n",
    "estacion='2117D'\n",
    "fecha_ini = '2019-01-01'\n",
    "fecha_fin = '2019-12-31'\n",
    "gráfico_de_temperaturas(api_key,estacion,fecha_ini,fecha_fin)"
   ]
  },
  {
   "cell_type": "code",
   "execution_count": null,
   "metadata": {},
   "outputs": [],
   "source": []
  }
 ],
 "metadata": {
  "kernelspec": {
   "display_name": "Python 3",
   "language": "python",
   "name": "python3"
  },
  "language_info": {
   "codemirror_mode": {
    "name": "ipython",
    "version": 3
   },
   "file_extension": ".py",
   "mimetype": "text/x-python",
   "name": "python",
   "nbconvert_exporter": "python",
   "pygments_lexer": "ipython3",
   "version": "3.8.5"
  }
 },
 "nbformat": 4,
 "nbformat_minor": 4
}
